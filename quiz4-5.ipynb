{
  "metadata": {
    "kernelspec": {
      "name": "xpython",
      "display_name": "Python 3.13 (XPython)",
      "language": "python"
    },
    "language_info": {
      "file_extension": ".py",
      "mimetype": "text/x-python",
      "name": "python",
      "version": "3.13.1"
    }
  },
  "nbformat_minor": 5,
  "nbformat": 4,
  "cells": [
    {
      "id": "f1d19597-26cd-491e-9a18-b34a1f7bfbbe",
      "cell_type": "code",
      "source": "import sqlite3\nimport matplotlib.pyplot as plt\n\n# 1. ვუკავშირდებით მონაცემთა ბაზას\nconn = sqlite3.connect('oscar winners.db')\nconn.row_factory = sqlite3.Row\nc = conn.cursor()",
      "metadata": {
        "trusted": true
      },
      "outputs": [],
      "execution_count": 4
    },
    {
      "id": "3555834d-30ed-44a2-9ad2-4e565c955772",
      "cell_type": "code",
      "source": "",
      "metadata": {
        "trusted": true
      },
      "outputs": [],
      "execution_count": null
    },
    {
      "id": "726d4f16-6919-40ec-97f9-ed7caddd154e",
      "cell_type": "code",
      "source": "# ვთვლით კაცების და ქალების ოსკარის გამარჯვებებს\ndef count_gender_win(gender, win_y):\n    return c.execute('SELECT count(*) FROM oscar_winners WHERE \"Sex\" = ? AND \"Year\" = ?', (gender, win_y)).fetchone()[0]\n\ngender_year = int(input(\"მიუთითეთ წელი სქესობრივი განაწილების სანახავად: \"))\nc_female_win = count_gender_win('female', gender_year)\nc_male_win = count_gender_win('male', gender_year)",
      "metadata": {
        "trusted": true
      },
      "outputs": [
        {
          "ename": "<class 'ValueError'>",
          "evalue": "invalid literal for int() with base 10: ''",
          "traceback": [
            "\u001b[31m---------------------------------------------------------------------------\u001b[39m",
            "\u001b[31mValueError\u001b[39m                                Traceback (most recent call last)",
            "\u001b[36mCell\u001b[39m\u001b[36m \u001b[39m\u001b[32mIn[5]\u001b[39m\u001b[32m, line 5\u001b[39m\n\u001b[32m      2\u001b[39m \u001b[38;5;28;01mdef\u001b[39;00m\u001b[38;5;250m \u001b[39m\u001b[34mcount_gender_win\u001b[39m(gender, win_y):\n\u001b[32m      3\u001b[39m     \u001b[38;5;28;01mreturn\u001b[39;00m c.execute(\u001b[33m'\u001b[39m\u001b[33mSELECT count(*) FROM oscar_winners WHERE \u001b[39m\u001b[33m\"\u001b[39m\u001b[33mSex\u001b[39m\u001b[33m\"\u001b[39m\u001b[33m = ? AND \u001b[39m\u001b[33m\"\u001b[39m\u001b[33mYear\u001b[39m\u001b[33m\"\u001b[39m\u001b[33m = ?\u001b[39m\u001b[33m'\u001b[39m, (gender, win_y)).fetchone()[\u001b[32m0\u001b[39m]\n\u001b[32m----> \u001b[39m\u001b[32m5\u001b[39m gender_year = \u001b[38;5;28;43mint\u001b[39;49m\u001b[43m(\u001b[49m\u001b[38;5;28;43minput\u001b[39;49m\u001b[43m(\u001b[49m\u001b[33;43m\"\u001b[39;49m\u001b[33;43mმიუთითეთ წელი სქესობრივი განაწილების სანახავად: \u001b[39;49m\u001b[33;43m\"\u001b[39;49m\u001b[43m)\u001b[49m\u001b[43m)\u001b[49m\n\u001b[32m      6\u001b[39m c_female_win = count_gender_win(\u001b[33m'\u001b[39m\u001b[33mfemale\u001b[39m\u001b[33m'\u001b[39m, gender_year)\n\u001b[32m      7\u001b[39m c_male_win = count_gender_win(\u001b[33m'\u001b[39m\u001b[33mmale\u001b[39m\u001b[33m'\u001b[39m, gender_year)\n",
            "\u001b[31mValueError\u001b[39m: invalid literal for int() with base 10: ''"
          ],
          "output_type": "error"
        }
      ],
      "execution_count": 5
    },
    {
      "id": "91b4f89c-cc05-4545-b0ff-30405f2f63fe",
      "cell_type": "markdown",
      "source": "ამატებს ახალ გამარჯვებულს ბაზაში მომხმარებლის მიერ შეყვანილი ინფორმაციით.",
      "metadata": {}
    },
    {
      "id": "6fdb119a-225d-44ba-97c9-348675ea8303",
      "cell_type": "code",
      "source": "name = input('შეიყვანეთ გამარჯვებულის სახელი: ')\nyear = int(input(\"შეიყვანეთ წელი: \"))\nsex = input('შეიყვანეთ სქესი (male/female): ')\nage = int(input('შეიყვანეთ ასაკი გამარჯვების დროს: '))\n\n\nc.execute('''\n    INSERT INTO oscar_winners (\"\"\"Name\"\"\", \"\"\"Year\"\"\", \"\"\"Sex\"\"\", \"\"\"Age\"\"\")\n    VALUES (?, ?, ?, ?)''', (name, year, sex, age))\nconn.commit()\n\n",
      "metadata": {
        "trusted": true
      },
      "outputs": [
        {
          "ename": "<class 'ValueError'>",
          "evalue": "invalid literal for int() with base 10: ''",
          "traceback": [
            "\u001b[31m---------------------------------------------------------------------------\u001b[39m",
            "\u001b[31mValueError\u001b[39m                                Traceback (most recent call last)",
            "\u001b[36mCell\u001b[39m\u001b[36m \u001b[39m\u001b[32mIn[7]\u001b[39m\u001b[32m, line 2\u001b[39m\n\u001b[32m      1\u001b[39m name = \u001b[38;5;28minput\u001b[39m(\u001b[33m'\u001b[39m\u001b[33mშეიყვანეთ გამარჯვებულის სახელი: \u001b[39m\u001b[33m'\u001b[39m)\n\u001b[32m----> \u001b[39m\u001b[32m2\u001b[39m year = \u001b[38;5;28;43mint\u001b[39;49m\u001b[43m(\u001b[49m\u001b[38;5;28;43minput\u001b[39;49m\u001b[43m(\u001b[49m\u001b[33;43m\"\u001b[39;49m\u001b[33;43mშეიყვანეთ წელი: \u001b[39;49m\u001b[33;43m\"\u001b[39;49m\u001b[43m)\u001b[49m\u001b[43m)\u001b[49m\n\u001b[32m      3\u001b[39m sex = \u001b[38;5;28minput\u001b[39m(\u001b[33m'\u001b[39m\u001b[33mშეიყვანეთ სქესი (male/female): \u001b[39m\u001b[33m'\u001b[39m)\n\u001b[32m      4\u001b[39m age = \u001b[38;5;28mint\u001b[39m(\u001b[38;5;28minput\u001b[39m(\u001b[33m'\u001b[39m\u001b[33mშეიყვანეთ ასაკი გამარჯვების დროს: \u001b[39m\u001b[33m'\u001b[39m))\n",
            "\u001b[31mValueError\u001b[39m: invalid literal for int() with base 10: ''"
          ],
          "output_type": "error"
        }
      ],
      "execution_count": 7
    },
    {
      "id": "ce5f42ea-9660-4bd3-aaca-65c4ad53a431",
      "cell_type": "code",
      "source": "old_name = input(\"შეიყვანეთ გამარჯვებულის ძველი სახელი: \")\nnew_name = input(\"შეიყვანეთ ახალი სახელი: \")\nc.execute('''\n    UPDATE oscar_winners\n    SET \"\"\"Name\"\"\" = ?\n    WHERE \"Name\" = ?\n''', (new_name, old_name))\nconn.commit()\n",
      "metadata": {
        "trusted": true
      },
      "outputs": [],
      "execution_count": null
    },
    {
      "id": "cffe425c-9830-4c35-86d0-14d1680521e1",
      "cell_type": "markdown",
      "source": "მომხმარებელი ანახლებს გამარჯვებულის სახელს",
      "metadata": {}
    },
    {
      "id": "f3b1ebbd-e629-4b8a-a937-7209a605174e",
      "cell_type": "code",
      "source": "year_to_delete = int(input(\"შეიყვანეთ წელი, რომლის მიხედვით გსურთ ჩანაწერის წაშლა: \"))\nc.execute('''\n    DELETE FROM oscar_winners\n    WHERE \"Year\" = ?\n''', (year_to_delete,))\nconn.commit()",
      "metadata": {
        "trusted": true
      },
      "outputs": [],
      "execution_count": null
    },
    {
      "id": "d35df18f-dd95-4eea-8f86-57c360d62db6",
      "cell_type": "markdown",
      "source": "მომხმარებელს შეყავს წელი რომელიც სურს რომ ჩანაწერიდან წაიშალოს",
      "metadata": {}
    },
    {
      "id": "d41edaed-6c0c-4fe2-b57b-25bf49c41a1f",
      "cell_type": "code",
      "source": "import matplotlib.pyplot as plt\n\nlabels = 'female', 'male'\nsizes = [c_female_win, c_male_win]\n\nfig, ax = plt.subplots()\nax.pie(sizes, labels=labels)\nplt.show()",
      "metadata": {
        "trusted": true
      },
      "outputs": [],
      "execution_count": null
    },
    {
      "id": "bb2f048a-5387-4956-a3d1-2b2a4afe313c",
      "cell_type": "markdown",
      "source": "ქალებისა და კაცების ოსკარები მითითებულ წელს",
      "metadata": {}
    },
    {
      "id": "c3d9c439-f1f2-45af-b7e5-af111c575722",
      "cell_type": "code",
      "source": "import matplotlib.pyplot as plt\n\nimport matplotlib.transforms as mtransforms\n\nfig, ax = plt.subplots()\nax.plot(range(10))\nax.set_yticks([2, 5, 7], labels=[20, 30, 40, 50, 60, 70])\n\n\ndef on_draw(event):\n    bboxes = []\n    for label in ax.get_yticklabels():\n        # Bounding box in pixels\n        bbox_px = label.get_window_extent()\n        # Transform to relative figure coordinates. This is the inverse of\n        # transFigure.\n        bbox_fig = bbox_px.transformed(fig.transFigure.inverted())\n        bboxes.append(bbox_fig)\n    # the bbox that bounds all the bboxes, again in relative figure coords\n    bbox = mtransforms.Bbox.union(bboxes)\n    if fig.subplotpars.left < bbox.width:\n        # Move the subplot left edge more to the right\n        fig.subplots_adjust(left=1.1*bbox.width)  # pad a little\n        fig.canvas.draw()\n\n\nfig.canvas.mpl_connect('draw_event', on_draw)\n\nplt.show()\n",
      "metadata": {
        "trusted": true
      },
      "outputs": [],
      "execution_count": null
    },
    {
      "id": "313f7fb3-3f12-41b5-8d75-140475be1aaf",
      "cell_type": "markdown",
      "source": "ასაკების განაწილება",
      "metadata": {}
    },
    {
      "id": "d2f6919d-b764-4321-82d4-8077bfa2dbee",
      "cell_type": "code",
      "source": "import matplotlib.pyplot as plt\n\nfig, ax = plt.subplots()\n\ngenders = ['Female', 'Male']\ncounts = [20, 30, 40, 50, 60, 70]\nbar_labels = ['red', 'blue']\nbar_colors = ['tab:red', 'tab:blue']\n\nax.bar(genders, counts, label=bar_labels, color=bar_colors)\n\nax.set_ylabel('AGE')\nax.set_title('Gender')\n\n\nplt.show()\n",
      "metadata": {
        "trusted": true
      },
      "outputs": [
        {
          "output_type": "display_data",
          "data": {
            "image/png": "[encoded data removed]",
            "text/plain": "<Figure size 640x480 with 1 Axes>"
          },
          "metadata": {}
        },
        {
          "ename": "<class 'ValueError'>",
          "evalue": "shape mismatch: objects cannot be broadcast to a single shape.  Mismatch is between arg 0 with shape (2,) and arg 1 with shape (4,).",
          "traceback": [
            "\u001b[31m---------------------------------------------------------------------------\u001b[39m",
            "\u001b[31mValueError\u001b[39m                                Traceback (most recent call last)",
            "\u001b[36mCell\u001b[39m\u001b[36m \u001b[39m\u001b[32mIn[2]\u001b[39m\u001b[32m, line 10\u001b[39m\n\u001b[32m      7\u001b[39m bar_labels = [\u001b[33m'\u001b[39m\u001b[33mred\u001b[39m\u001b[33m'\u001b[39m, \u001b[33m'\u001b[39m\u001b[33mblue\u001b[39m\u001b[33m'\u001b[39m]\n\u001b[32m      8\u001b[39m bar_colors = [\u001b[33m'\u001b[39m\u001b[33mtab:red\u001b[39m\u001b[33m'\u001b[39m, \u001b[33m'\u001b[39m\u001b[33mtab:blue\u001b[39m\u001b[33m'\u001b[39m]\n\u001b[32m---> \u001b[39m\u001b[32m10\u001b[39m \u001b[43max\u001b[49m\u001b[43m.\u001b[49m\u001b[43mbar\u001b[49m\u001b[43m(\u001b[49m\u001b[43mgenders\u001b[49m\u001b[43m,\u001b[49m\u001b[43m \u001b[49m\u001b[43mcounts\u001b[49m\u001b[43m,\u001b[49m\u001b[43m \u001b[49m\u001b[43mlabel\u001b[49m\u001b[43m=\u001b[49m\u001b[43mbar_labels\u001b[49m\u001b[43m,\u001b[49m\u001b[43m \u001b[49m\u001b[43mcolor\u001b[49m\u001b[43m=\u001b[49m\u001b[43mbar_colors\u001b[49m\u001b[43m)\u001b[49m\n\u001b[32m     12\u001b[39m ax.set_ylabel(\u001b[33m'\u001b[39m\u001b[33mAGE\u001b[39m\u001b[33m'\u001b[39m)\n\u001b[32m     13\u001b[39m ax.set_title(\u001b[33m'\u001b[39m\u001b[33mGender\u001b[39m\u001b[33m'\u001b[39m)\n",
            "\u001b[36mFile \u001b[39m\u001b[32m/lib/python3.13/site-packages/matplotlib/__init__.py:1521\u001b[39m, in \u001b[36m_preprocess_data.<locals>.inner\u001b[39m\u001b[34m(ax, data, *args, **kwargs)\u001b[39m\n\u001b[32m   1518\u001b[39m \u001b[38;5;129m@functools\u001b[39m.wraps(func)\n\u001b[32m   1519\u001b[39m \u001b[38;5;28;01mdef\u001b[39;00m\u001b[38;5;250m \u001b[39m\u001b[34minner\u001b[39m(ax, *args, data=\u001b[38;5;28;01mNone\u001b[39;00m, **kwargs):\n\u001b[32m   1520\u001b[39m     \u001b[38;5;28;01mif\u001b[39;00m data \u001b[38;5;129;01mis\u001b[39;00m \u001b[38;5;28;01mNone\u001b[39;00m:\n\u001b[32m-> \u001b[39m\u001b[32m1521\u001b[39m         \u001b[38;5;28;01mreturn\u001b[39;00m \u001b[43mfunc\u001b[49m\u001b[43m(\u001b[49m\n\u001b[32m   1522\u001b[39m \u001b[43m            \u001b[49m\u001b[43max\u001b[49m\u001b[43m,\u001b[49m\n\u001b[32m   1523\u001b[39m \u001b[43m            \u001b[49m\u001b[43m*\u001b[49m\u001b[38;5;28;43mmap\u001b[39;49m\u001b[43m(\u001b[49m\u001b[43mcbook\u001b[49m\u001b[43m.\u001b[49m\u001b[43msanitize_sequence\u001b[49m\u001b[43m,\u001b[49m\u001b[43m \u001b[49m\u001b[43margs\u001b[49m\u001b[43m)\u001b[49m\u001b[43m,\u001b[49m\n\u001b[32m   1524\u001b[39m \u001b[43m            \u001b[49m\u001b[43m*\u001b[49m\u001b[43m*\u001b[49m\u001b[43m{\u001b[49m\u001b[43mk\u001b[49m\u001b[43m:\u001b[49m\u001b[43m \u001b[49m\u001b[43mcbook\u001b[49m\u001b[43m.\u001b[49m\u001b[43msanitize_sequence\u001b[49m\u001b[43m(\u001b[49m\u001b[43mv\u001b[49m\u001b[43m)\u001b[49m\u001b[43m \u001b[49m\u001b[38;5;28;43;01mfor\u001b[39;49;00m\u001b[43m \u001b[49m\u001b[43mk\u001b[49m\u001b[43m,\u001b[49m\u001b[43m \u001b[49m\u001b[43mv\u001b[49m\u001b[43m \u001b[49m\u001b[38;5;129;43;01min\u001b[39;49;00m\u001b[43m \u001b[49m\u001b[43mkwargs\u001b[49m\u001b[43m.\u001b[49m\u001b[43mitems\u001b[49m\u001b[43m(\u001b[49m\u001b[43m)\u001b[49m\u001b[43m}\u001b[49m\u001b[43m)\u001b[49m\n\u001b[32m   1526\u001b[39m     bound = new_sig.bind(ax, *args, **kwargs)\n\u001b[32m   1527\u001b[39m     auto_label = (bound.arguments.get(label_namer)\n\u001b[32m   1528\u001b[39m                   \u001b[38;5;129;01mor\u001b[39;00m bound.kwargs.get(label_namer))\n",
            "\u001b[36mFile \u001b[39m\u001b[32m/lib/python3.13/site-packages/matplotlib/axes/_axes.py:2583\u001b[39m, in \u001b[36mAxes.bar\u001b[39m\u001b[34m(self, x, height, width, bottom, align, **kwargs)\u001b[39m\n\u001b[32m   2580\u001b[39m     \u001b[38;5;28;01mif\u001b[39;00m yerr \u001b[38;5;129;01mis\u001b[39;00m \u001b[38;5;129;01mnot\u001b[39;00m \u001b[38;5;28;01mNone\u001b[39;00m:\n\u001b[32m   2581\u001b[39m         yerr = \u001b[38;5;28mself\u001b[39m._convert_dx(yerr, y0, y, \u001b[38;5;28mself\u001b[39m.convert_yunits)\n\u001b[32m-> \u001b[39m\u001b[32m2583\u001b[39m x, height, width, y, linewidth, hatch = \u001b[43mnp\u001b[49m\u001b[43m.\u001b[49m\u001b[43mbroadcast_arrays\u001b[49m\u001b[43m(\u001b[49m\n\u001b[32m   2584\u001b[39m \u001b[43m    \u001b[49m\u001b[38;5;66;43;03m# Make args iterable too.\u001b[39;49;00m\n\u001b[32m   2585\u001b[39m \u001b[43m    \u001b[49m\u001b[43mnp\u001b[49m\u001b[43m.\u001b[49m\u001b[43matleast_1d\u001b[49m\u001b[43m(\u001b[49m\u001b[43mx\u001b[49m\u001b[43m)\u001b[49m\u001b[43m,\u001b[49m\u001b[43m \u001b[49m\u001b[43mheight\u001b[49m\u001b[43m,\u001b[49m\u001b[43m \u001b[49m\u001b[43mwidth\u001b[49m\u001b[43m,\u001b[49m\u001b[43m \u001b[49m\u001b[43my\u001b[49m\u001b[43m,\u001b[49m\u001b[43m \u001b[49m\u001b[43mlinewidth\u001b[49m\u001b[43m,\u001b[49m\u001b[43m \u001b[49m\u001b[43mhatch\u001b[49m\u001b[43m)\u001b[49m\n\u001b[32m   2587\u001b[39m \u001b[38;5;66;03m# Now that units have been converted, set the tick locations.\u001b[39;00m\n\u001b[32m   2588\u001b[39m \u001b[38;5;28;01mif\u001b[39;00m orientation == \u001b[33m'\u001b[39m\u001b[33mvertical\u001b[39m\u001b[33m'\u001b[39m:\n",
            "\u001b[36mFile \u001b[39m\u001b[32m/lib/python3.13/site-packages/numpy/lib/_stride_tricks_impl.py:544\u001b[39m, in \u001b[36mbroadcast_arrays\u001b[39m\u001b[34m(subok, *args)\u001b[39m\n\u001b[32m    537\u001b[39m \u001b[38;5;66;03m# nditer is not used here to avoid the limit of 32 arrays.\u001b[39;00m\n\u001b[32m    538\u001b[39m \u001b[38;5;66;03m# Otherwise, something like the following one-liner would suffice:\u001b[39;00m\n\u001b[32m    539\u001b[39m \u001b[38;5;66;03m# return np.nditer(args, flags=['multi_index', 'zerosize_ok'],\u001b[39;00m\n\u001b[32m    540\u001b[39m \u001b[38;5;66;03m#                  order='C').itviews\u001b[39;00m\n\u001b[32m    542\u001b[39m args = [np.array(_m, copy=\u001b[38;5;28;01mNone\u001b[39;00m, subok=subok) \u001b[38;5;28;01mfor\u001b[39;00m _m \u001b[38;5;129;01min\u001b[39;00m args]\n\u001b[32m--> \u001b[39m\u001b[32m544\u001b[39m shape = \u001b[43m_broadcast_shape\u001b[49m\u001b[43m(\u001b[49m\u001b[43m*\u001b[49m\u001b[43margs\u001b[49m\u001b[43m)\u001b[49m\n\u001b[32m    546\u001b[39m result = [array \u001b[38;5;28;01mif\u001b[39;00m array.shape == shape\n\u001b[32m    547\u001b[39m           \u001b[38;5;28;01melse\u001b[39;00m _broadcast_to(array, shape, subok=subok, readonly=\u001b[38;5;28;01mFalse\u001b[39;00m)\n\u001b[32m    548\u001b[39m                           \u001b[38;5;28;01mfor\u001b[39;00m array \u001b[38;5;129;01min\u001b[39;00m args]\n\u001b[32m    549\u001b[39m \u001b[38;5;28;01mreturn\u001b[39;00m \u001b[38;5;28mtuple\u001b[39m(result)\n",
            "\u001b[36mFile \u001b[39m\u001b[32m/lib/python3.13/site-packages/numpy/lib/_stride_tricks_impl.py:419\u001b[39m, in \u001b[36m_broadcast_shape\u001b[39m\u001b[34m(*args)\u001b[39m\n\u001b[32m    414\u001b[39m \u001b[38;5;250m\u001b[39m\u001b[33;03m\"\"\"Returns the shape of the arrays that would result from broadcasting the\u001b[39;00m\n\u001b[32m    415\u001b[39m \u001b[33;03msupplied arrays against each other.\u001b[39;00m\n\u001b[32m    416\u001b[39m \u001b[33;03m\"\"\"\u001b[39;00m\n\u001b[32m    417\u001b[39m \u001b[38;5;66;03m# use the old-iterator because np.nditer does not handle size 0 arrays\u001b[39;00m\n\u001b[32m    418\u001b[39m \u001b[38;5;66;03m# consistently\u001b[39;00m\n\u001b[32m--> \u001b[39m\u001b[32m419\u001b[39m b = \u001b[43mnp\u001b[49m\u001b[43m.\u001b[49m\u001b[43mbroadcast\u001b[49m\u001b[43m(\u001b[49m\u001b[43m*\u001b[49m\u001b[43margs\u001b[49m\u001b[43m[\u001b[49m\u001b[43m:\u001b[49m\u001b[32;43m32\u001b[39;49m\u001b[43m]\u001b[49m\u001b[43m)\u001b[49m\n\u001b[32m    420\u001b[39m \u001b[38;5;66;03m# unfortunately, it cannot handle 32 or more arguments directly\u001b[39;00m\n\u001b[32m    421\u001b[39m \u001b[38;5;28;01mfor\u001b[39;00m pos \u001b[38;5;129;01min\u001b[39;00m \u001b[38;5;28mrange\u001b[39m(\u001b[32m32\u001b[39m, \u001b[38;5;28mlen\u001b[39m(args), \u001b[32m31\u001b[39m):\n\u001b[32m    422\u001b[39m     \u001b[38;5;66;03m# ironically, np.broadcast does not properly handle np.broadcast\u001b[39;00m\n\u001b[32m    423\u001b[39m     \u001b[38;5;66;03m# objects (it treats them as scalars)\u001b[39;00m\n\u001b[32m    424\u001b[39m     \u001b[38;5;66;03m# use broadcasting to avoid allocating the full array\u001b[39;00m\n",
            "\u001b[31mValueError\u001b[39m: shape mismatch: objects cannot be broadcast to a single shape.  Mismatch is between arg 0 with shape (2,) and arg 1 with shape (4,)."
          ],
          "output_type": "error"
        }
      ],
      "execution_count": 2
    },
    {
      "id": "c1fbd72a-f111-4727-aeef-b820e09663e2",
      "cell_type": "markdown",
      "source": "გამარჯვებულების რაოდენობა წლების მიხედვით",
      "metadata": {}
    },
    {
      "id": "35398e63-a96f-4b71-8bc9-4603578ac1a0",
      "cell_type": "code",
      "source": "",
      "metadata": {
        "trusted": true
      },
      "outputs": [],
      "execution_count": null
    }
  ]
}